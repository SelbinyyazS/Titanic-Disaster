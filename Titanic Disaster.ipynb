{
  "nbformat": 4,
  "nbformat_minor": 0,
  "metadata": {
    "colab": {
      "name": "Titanic_survial | Log_regression.ipynb",
      "provenance": [],
      "collapsed_sections": []
    },
    "kernelspec": {
      "name": "python3",
      "display_name": "Python 3"
    }
  },
  "cells": [
    {
      "cell_type": "code",
      "metadata": {
        "colab": {
          "base_uri": "https://localhost:8080/",
          "height": 67
        },
        "id": "QgWfS2M4MqcS",
        "outputId": "b105cc17-6e73-413c-8d2f-7bb217ddfb8f"
      },
      "source": [
        "import numpy as np\n",
        "import pandas as pd\n",
        "from matplotlib import pyplot as plt\n",
        "from sklearn.model_selection import  train_test_split\n",
        "from sklearn.linear_model import LogisticRegression\n",
        "from sklearn.preprocessing import StandardScaler\n",
        "from google.colab import files\n",
        "\n",
        "\n",
        "passengers=pd.read_csv('/train.csv')\n",
        "test_data=pd.read_csv('/test.csv')\n",
        "#modify columns in test data\n",
        "test_data.Sex=test_data['Sex'].map({'female':1, 'male':0})\n",
        "test_data['Age'].fillna(value=round(test_data.Age.mean()), inplace=True)\n",
        "test_data['FirstClass']=test_data['Pclass'].apply(lambda x: 1 if x==1 else 0)\n",
        "test_data['SecondClass']=test_data['Pclass'].apply(lambda x: 1 if x==2 else 0)\n",
        "test_data['ThirdClass']=test_data['Pclass'].apply(lambda x: 1 if x==3 else 0)\n",
        "\n",
        "#modified columns to train our model\n",
        "passengers.Sex=passengers['Sex'].map({'female':1, 'male':0})\n",
        "passengers['Age'].fillna(value=round(passengers.Age.mean()), inplace=True)\n",
        "passengers['FirstClass']=passengers['Pclass'].apply(lambda x: 1 if x==1 else 0)\n",
        "passengers['SecondClass']=passengers['Pclass'].apply(lambda x: 1 if x==2 else 0)\n",
        "passengers['ThirdClass']=passengers['Pclass'].apply(lambda x: 1 if x==3 else 0)\n",
        "\n",
        "\n",
        "features=passengers[['Sex','Age','FirstClass','SecondClass']]\n",
        "\n",
        "survival=passengers['Survived']\n",
        "\n",
        "\n",
        "\n",
        "\n",
        "#split data into train set and test set\n",
        "\n",
        "x_train,x_test, y_train, y_test=train_test_split(features, survival,test_size=0.2)\n",
        "\n",
        "scaler=StandardScaler()\n",
        "x_train=scaler.fit_transform(x_train)\n",
        "x_test=scaler.transform(x_test)\n",
        "\n",
        "model=LogisticRegression()\n",
        "model.fit(x_train,y_train)\n",
        "print(model.score(x_train,y_train))\n",
        "print(model.score(x_test,y_test))\n",
        "print(model.coef_)\n",
        "\n",
        "x_test_data=test_data[['Sex','Age','FirstClass','SecondClass']]\n",
        "\n",
        "x_test_data=scaler.transform(x_test_data)\n",
        "\n",
        "\n",
        "test_data['Survived']=model.predict(x_test_data)\n",
        "\n",
        "submission_data=test_data[['PassengerId','Survived']]\n",
        "submission_data.head()\n",
        "submission_data.to_csv('submission.csv',index=False)\n",
        "files.download('submission.csv')"
      ],
      "execution_count": null,
      "outputs": [
        {
          "output_type": "stream",
          "text": [
            "0.8033707865168539\n",
            "0.7597765363128491\n",
            "[[ 1.30439356 -0.37554037  0.97570091  0.4973004 ]]\n"
          ],
          "name": "stdout"
        },
        {
          "output_type": "display_data",
          "data": {
            "application/javascript": [
              "\n",
              "    async function download(id, filename, size) {\n",
              "      if (!google.colab.kernel.accessAllowed) {\n",
              "        return;\n",
              "      }\n",
              "      const div = document.createElement('div');\n",
              "      const label = document.createElement('label');\n",
              "      label.textContent = `Downloading \"${filename}\": `;\n",
              "      div.appendChild(label);\n",
              "      const progress = document.createElement('progress');\n",
              "      progress.max = size;\n",
              "      div.appendChild(progress);\n",
              "      document.body.appendChild(div);\n",
              "\n",
              "      const buffers = [];\n",
              "      let downloaded = 0;\n",
              "\n",
              "      const channel = await google.colab.kernel.comms.open(id);\n",
              "      // Send a message to notify the kernel that we're ready.\n",
              "      channel.send({})\n",
              "\n",
              "      for await (const message of channel.messages) {\n",
              "        // Send a message to notify the kernel that we're ready.\n",
              "        channel.send({})\n",
              "        if (message.buffers) {\n",
              "          for (const buffer of message.buffers) {\n",
              "            buffers.push(buffer);\n",
              "            downloaded += buffer.byteLength;\n",
              "            progress.value = downloaded;\n",
              "          }\n",
              "        }\n",
              "      }\n",
              "      const blob = new Blob(buffers, {type: 'application/binary'});\n",
              "      const a = document.createElement('a');\n",
              "      a.href = window.URL.createObjectURL(blob);\n",
              "      a.download = filename;\n",
              "      div.appendChild(a);\n",
              "      a.click();\n",
              "      div.remove();\n",
              "    }\n",
              "  "
            ],
            "text/plain": [
              "<IPython.core.display.Javascript object>"
            ]
          },
          "metadata": {
            "tags": []
          }
        },
        {
          "output_type": "display_data",
          "data": {
            "application/javascript": [
              "download(\"download_4455547c-32fc-4ec1-b35c-160610402479\", \"submission.csv\", 2839)"
            ],
            "text/plain": [
              "<IPython.core.display.Javascript object>"
            ]
          },
          "metadata": {
            "tags": []
          }
        }
      ]
    }
  ]
}
